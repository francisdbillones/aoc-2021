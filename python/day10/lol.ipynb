{
 "cells": [
  {
   "cell_type": "code",
   "execution_count": 1,
   "metadata": {},
   "outputs": [],
   "source": [
    "import numpy as np"
   ]
  },
  {
   "cell_type": "code",
   "execution_count": 2,
   "metadata": {},
   "outputs": [
    {
     "data": {
      "text/plain": [
       "<module 'numpy' from '/home/francis/.pyenv/versions/python-playground/lib/python3.9/site-packages/numpy/__init__.py'>"
      ]
     },
     "execution_count": 2,
     "metadata": {},
     "output_type": "execute_result"
    }
   ],
   "source": [
    "np"
   ]
  },
  {
   "cell_type": "code",
   "execution_count": 3,
   "metadata": {},
   "outputs": [
    {
     "ename": "TypeError",
     "evalue": "_pad_dispatcher() missing 1 required positional argument: 'pad_width'",
     "output_type": "error",
     "traceback": [
      "\u001b[0;31m---------------------------------------------------------------------------\u001b[0m",
      "\u001b[0;31mTypeError\u001b[0m                                 Traceback (most recent call last)",
      "\u001b[0;32m/tmp/ipykernel_532070/547707202.py\u001b[0m in \u001b[0;36m<module>\u001b[0;34m\u001b[0m\n\u001b[0;32m----> 1\u001b[0;31m \u001b[0mnp\u001b[0m\u001b[0;34m.\u001b[0m\u001b[0mpad\u001b[0m\u001b[0;34m(\u001b[0m\u001b[0mnp\u001b[0m\u001b[0;34m.\u001b[0m\u001b[0marange\u001b[0m\u001b[0;34m(\u001b[0m\u001b[0;36m100\u001b[0m\u001b[0;34m)\u001b[0m\u001b[0;34m.\u001b[0m\u001b[0mreshape\u001b[0m\u001b[0;34m(\u001b[0m\u001b[0;36m10\u001b[0m\u001b[0;34m,\u001b[0m \u001b[0;36m10\u001b[0m\u001b[0;34m)\u001b[0m\u001b[0;34m)\u001b[0m\u001b[0;34m\u001b[0m\u001b[0;34m\u001b[0m\u001b[0m\n\u001b[0m",
      "\u001b[0;32m<__array_function__ internals>\u001b[0m in \u001b[0;36mpad\u001b[0;34m(*args, **kwargs)\u001b[0m\n",
      "\u001b[0;31mTypeError\u001b[0m: _pad_dispatcher() missing 1 required positional argument: 'pad_width'"
     ]
    }
   ],
   "source": [
    "np.pad(np.arange(100).reshape(10, 10))"
   ]
  },
  {
   "cell_type": "code",
   "execution_count": 8,
   "metadata": {},
   "outputs": [
    {
     "data": {
      "text/plain": [
       "array([[ 9,  9,  9,  9,  9,  9,  9,  9,  9,  9,  9,  9],\n",
       "       [ 9,  0,  1,  2,  3,  4,  5,  6,  7,  8,  9,  9],\n",
       "       [ 9, 10, 11, 12, 13, 14, 15, 16, 17, 18, 19,  9],\n",
       "       [ 9, 20, 21, 22, 23, 24, 25, 26, 27, 28, 29,  9],\n",
       "       [ 9, 30, 31, 32, 33, 34, 35, 36, 37, 38, 39,  9],\n",
       "       [ 9, 40, 41, 42, 43, 44, 45, 46, 47, 48, 49,  9],\n",
       "       [ 9, 50, 51, 52, 53, 54, 55, 56, 57, 58, 59,  9],\n",
       "       [ 9, 60, 61, 62, 63, 64, 65, 66, 67, 68, 69,  9],\n",
       "       [ 9, 70, 71, 72, 73, 74, 75, 76, 77, 78, 79,  9],\n",
       "       [ 9, 80, 81, 82, 83, 84, 85, 86, 87, 88, 89,  9],\n",
       "       [ 9, 90, 91, 92, 93, 94, 95, 96, 97, 98, 99,  9],\n",
       "       [ 9,  9,  9,  9,  9,  9,  9,  9,  9,  9,  9,  9]])"
      ]
     },
     "execution_count": 8,
     "metadata": {},
     "output_type": "execute_result"
    }
   ],
   "source": [
    "np.pad(np.arange(100).reshape(10, 10), 1, 'constant', constant_values=9)"
   ]
  },
  {
   "cell_type": "code",
   "execution_count": null,
   "metadata": {},
   "outputs": [],
   "source": []
  }
 ],
 "metadata": {
  "kernelspec": {
   "display_name": "Python 3 (ipykernel)",
   "language": "python",
   "name": "python3"
  },
  "language_info": {
   "codemirror_mode": {
    "name": "ipython",
    "version": 3
   },
   "file_extension": ".py",
   "mimetype": "text/x-python",
   "name": "python",
   "nbconvert_exporter": "python",
   "pygments_lexer": "ipython3",
   "version": "3.9.9"
  }
 },
 "nbformat": 4,
 "nbformat_minor": 2
}
